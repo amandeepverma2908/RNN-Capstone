{
  "nbformat": 4,
  "nbformat_minor": 0,
  "metadata": {
    "kernelspec": {
      "display_name": "Python 3",
      "language": "python",
      "name": "python3"
    },
    "language_info": {
      "codemirror_mode": {
        "name": "ipython",
        "version": 3
      },
      "file_extension": ".py",
      "mimetype": "text/x-python",
      "name": "python",
      "nbconvert_exporter": "python",
      "pygments_lexer": "ipython3",
      "version": "3.7.4"
    },
    "colab": {
      "name": "02_RNN_Exercise_.ipynb",
      "provenance": [],
      "collapsed_sections": []
    }
  },
  "cells": [
    {
      "cell_type": "markdown",
      "metadata": {
        "id": "QYmTPy-X3TW7"
      },
      "source": [
        "\n",
        "\n",
        "# RNN Exercise"
      ]
    },
    {
      "cell_type": "markdown",
      "metadata": {
        "id": "F5rgcSJL3TW_"
      },
      "source": [
        "**TASK: IMPORT THE BASIC LIBRARIES YOU THINK YOU WILL USE**"
      ]
    },
    {
      "cell_type": "code",
      "metadata": {
        "id": "BR4i7STb3TXA"
      },
      "source": [
        "import pandas as pd\n",
        "import numpy as np\n",
        "\n",
        "import matplotlib.pyplot as plt\n",
        "import seaborn as sns\n",
        "pd.set_option('display.max_columns',None)\n",
        "%matplotlib inline"
      ],
      "execution_count": 1,
      "outputs": []
    },
    {
      "cell_type": "markdown",
      "metadata": {
        "id": "HJewZJQz3TXB"
      },
      "source": [
        "## Data\n",
        "\n",
        "Info about this data set: https://fred.stlouisfed.org/series/IPN31152N\n",
        "\n",
        "\n",
        "Units:  Index 2012=100, Not Seasonally Adjusted\n",
        "\n",
        "Frequency:  Monthly\n",
        "\n",
        "The industrial production (IP) index measures the real output of all relevant establishments located in the United States, regardless of their ownership, but not those located in U.S. territories.\n",
        "\n",
        "NAICS = 31152\n",
        "\n",
        "Source Code: IP.N31152.N\n",
        "\n",
        "Suggested Citation:\n",
        "Board of Governors of the Federal Reserve System (US), Industrial Production: Nondurable Goods: Ice cream and frozen dessert [IPN31152N], retrieved from FRED, Federal Reserve Bank of St. Louis; https://fred.stlouisfed.org/series/IPN31152N, November 16, 2019.\n",
        "\n",
        "# Project Tasks\n",
        "\n",
        "**TASK: Read in the data set \"Frozen_Dessert_Production.csv\" from the Data folder. Figure out how to set the date to a datetime index columns**"
      ]
    },
    {
      "cell_type": "code",
      "metadata": {
        "colab": {
          "resources": {
            "http://localhost:8080/nbextensions/google.colab/files.js": {
              "data": "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",
              "ok": true,
              "headers": [
                [
                  "content-type",
                  "application/javascript"
                ]
              ],
              "status": 200,
              "status_text": ""
            }
          },
          "base_uri": "https://localhost:8080/",
          "height": 73
        },
        "id": "RouwFPEc3TXB",
        "outputId": "119092bb-36fd-43e8-a3cd-edc39163dc51"
      },
      "source": [
        "# CODE HERE\n",
        "from google.colab import files\n",
        "uploaded = files.upload()"
      ],
      "execution_count": 2,
      "outputs": [
        {
          "output_type": "display_data",
          "data": {
            "text/html": [
              "\n",
              "     <input type=\"file\" id=\"files-fd040f03-98f9-43f1-8c04-55d09bb7c8bd\" name=\"files[]\" multiple disabled\n",
              "        style=\"border:none\" />\n",
              "     <output id=\"result-fd040f03-98f9-43f1-8c04-55d09bb7c8bd\">\n",
              "      Upload widget is only available when the cell has been executed in the\n",
              "      current browser session. Please rerun this cell to enable.\n",
              "      </output>\n",
              "      <script src=\"/nbextensions/google.colab/files.js\"></script> "
            ],
            "text/plain": [
              "<IPython.core.display.HTML object>"
            ]
          },
          "metadata": {
            "tags": []
          }
        },
        {
          "output_type": "stream",
          "text": [
            "Saving Frozen_Dessert_Production.csv to Frozen_Dessert_Production.csv\n"
          ],
          "name": "stdout"
        }
      ]
    },
    {
      "cell_type": "code",
      "metadata": {
        "id": "R6OiKKps3TXC"
      },
      "source": [
        "import io\n",
        "df = pd.read_csv(io.BytesIO(uploaded['Frozen_Dessert_Production.csv']),index_col='DATE',parse_dates=True)\n",
        "# Dataset is now stored in a Pandas Dataframe"
      ],
      "execution_count": 3,
      "outputs": []
    },
    {
      "cell_type": "code",
      "metadata": {
        "colab": {
          "base_uri": "https://localhost:8080/",
          "height": 225
        },
        "id": "tMARjC5b3TXC",
        "outputId": "1e605fd8-dd02-4761-e199-a37b4781bdb3"
      },
      "source": [
        "df.head()"
      ],
      "execution_count": 4,
      "outputs": [
        {
          "output_type": "execute_result",
          "data": {
            "text/html": [
              "<div>\n",
              "<style scoped>\n",
              "    .dataframe tbody tr th:only-of-type {\n",
              "        vertical-align: middle;\n",
              "    }\n",
              "\n",
              "    .dataframe tbody tr th {\n",
              "        vertical-align: top;\n",
              "    }\n",
              "\n",
              "    .dataframe thead th {\n",
              "        text-align: right;\n",
              "    }\n",
              "</style>\n",
              "<table border=\"1\" class=\"dataframe\">\n",
              "  <thead>\n",
              "    <tr style=\"text-align: right;\">\n",
              "      <th></th>\n",
              "      <th>IPN31152N</th>\n",
              "    </tr>\n",
              "    <tr>\n",
              "      <th>DATE</th>\n",
              "      <th></th>\n",
              "    </tr>\n",
              "  </thead>\n",
              "  <tbody>\n",
              "    <tr>\n",
              "      <th>1972-01-01</th>\n",
              "      <td>59.9622</td>\n",
              "    </tr>\n",
              "    <tr>\n",
              "      <th>1972-02-01</th>\n",
              "      <td>67.0605</td>\n",
              "    </tr>\n",
              "    <tr>\n",
              "      <th>1972-03-01</th>\n",
              "      <td>74.2350</td>\n",
              "    </tr>\n",
              "    <tr>\n",
              "      <th>1972-04-01</th>\n",
              "      <td>78.1120</td>\n",
              "    </tr>\n",
              "    <tr>\n",
              "      <th>1972-05-01</th>\n",
              "      <td>84.7636</td>\n",
              "    </tr>\n",
              "  </tbody>\n",
              "</table>\n",
              "</div>"
            ],
            "text/plain": [
              "            IPN31152N\n",
              "DATE                 \n",
              "1972-01-01    59.9622\n",
              "1972-02-01    67.0605\n",
              "1972-03-01    74.2350\n",
              "1972-04-01    78.1120\n",
              "1972-05-01    84.7636"
            ]
          },
          "metadata": {
            "tags": []
          },
          "execution_count": 4
        }
      ]
    },
    {
      "cell_type": "markdown",
      "metadata": {
        "id": "0WTvYuyc3TXE"
      },
      "source": [
        "**Task: Change the column name to Production**"
      ]
    },
    {
      "cell_type": "code",
      "metadata": {
        "id": "PgUddAmh3TXE"
      },
      "source": [
        "#CODE HERE\n",
        "df.columns=['Production']"
      ],
      "execution_count": 5,
      "outputs": []
    },
    {
      "cell_type": "code",
      "metadata": {
        "colab": {
          "base_uri": "https://localhost:8080/"
        },
        "id": "YsYIAOER3TXE",
        "outputId": "214b5842-22db-485c-89b2-e3bc55b0ad76"
      },
      "source": [
        "df.info()"
      ],
      "execution_count": 6,
      "outputs": [
        {
          "output_type": "stream",
          "text": [
            "<class 'pandas.core.frame.DataFrame'>\n",
            "DatetimeIndex: 573 entries, 1972-01-01 to 2019-09-01\n",
            "Data columns (total 1 columns):\n",
            " #   Column      Non-Null Count  Dtype  \n",
            "---  ------      --------------  -----  \n",
            " 0   Production  573 non-null    float64\n",
            "dtypes: float64(1)\n",
            "memory usage: 9.0 KB\n"
          ],
          "name": "stdout"
        }
      ]
    },
    {
      "cell_type": "code",
      "metadata": {
        "colab": {
          "base_uri": "https://localhost:8080/",
          "height": 225
        },
        "id": "Amd97kBz3TXF",
        "outputId": "833de7f5-006e-4994-bd4e-e29d95b9809d"
      },
      "source": [
        "df.head()"
      ],
      "execution_count": 7,
      "outputs": [
        {
          "output_type": "execute_result",
          "data": {
            "text/html": [
              "<div>\n",
              "<style scoped>\n",
              "    .dataframe tbody tr th:only-of-type {\n",
              "        vertical-align: middle;\n",
              "    }\n",
              "\n",
              "    .dataframe tbody tr th {\n",
              "        vertical-align: top;\n",
              "    }\n",
              "\n",
              "    .dataframe thead th {\n",
              "        text-align: right;\n",
              "    }\n",
              "</style>\n",
              "<table border=\"1\" class=\"dataframe\">\n",
              "  <thead>\n",
              "    <tr style=\"text-align: right;\">\n",
              "      <th></th>\n",
              "      <th>Production</th>\n",
              "    </tr>\n",
              "    <tr>\n",
              "      <th>DATE</th>\n",
              "      <th></th>\n",
              "    </tr>\n",
              "  </thead>\n",
              "  <tbody>\n",
              "    <tr>\n",
              "      <th>1972-01-01</th>\n",
              "      <td>59.9622</td>\n",
              "    </tr>\n",
              "    <tr>\n",
              "      <th>1972-02-01</th>\n",
              "      <td>67.0605</td>\n",
              "    </tr>\n",
              "    <tr>\n",
              "      <th>1972-03-01</th>\n",
              "      <td>74.2350</td>\n",
              "    </tr>\n",
              "    <tr>\n",
              "      <th>1972-04-01</th>\n",
              "      <td>78.1120</td>\n",
              "    </tr>\n",
              "    <tr>\n",
              "      <th>1972-05-01</th>\n",
              "      <td>84.7636</td>\n",
              "    </tr>\n",
              "  </tbody>\n",
              "</table>\n",
              "</div>"
            ],
            "text/plain": [
              "            Production\n",
              "DATE                  \n",
              "1972-01-01     59.9622\n",
              "1972-02-01     67.0605\n",
              "1972-03-01     74.2350\n",
              "1972-04-01     78.1120\n",
              "1972-05-01     84.7636"
            ]
          },
          "metadata": {
            "tags": []
          },
          "execution_count": 7
        }
      ]
    },
    {
      "cell_type": "markdown",
      "metadata": {
        "id": "mv71l9Ar3TXF"
      },
      "source": [
        "**TASK: Plot out the time series**"
      ]
    },
    {
      "cell_type": "code",
      "metadata": {
        "colab": {
          "base_uri": "https://localhost:8080/",
          "height": 514
        },
        "id": "Pz0Bcivm3TXF",
        "outputId": "1a6045e2-c2ec-4038-e60b-9e9edaaa20af"
      },
      "source": [
        "#CODE HERE\n",
        "df.plot(figsize=(12,8))"
      ],
      "execution_count": 8,
      "outputs": [
        {
          "output_type": "execute_result",
          "data": {
            "text/plain": [
              "<matplotlib.axes._subplots.AxesSubplot at 0x7fe2cce2ed50>"
            ]
          },
          "metadata": {
            "tags": []
          },
          "execution_count": 8
        },
        {
          "output_type": "display_data",
          "data": {
            "image/png": "[encoded data removed]",
            "text/plain": [
              "<Figure size 864x576 with 1 Axes>"
            ]
          },
          "metadata": {
            "tags": [],
            "needs_background": "light"
          }
        }
      ]
    },
    {
      "cell_type": "markdown",
      "metadata": {
        "id": "Ks3B-AJ_3TXG"
      },
      "source": [
        "## Train Test Split"
      ]
    },
    {
      "cell_type": "code",
      "metadata": {
        "colab": {
          "base_uri": "https://localhost:8080/"
        },
        "id": "P2L1AHRL3TXH",
        "outputId": "0bc82647-408a-4d2d-9818-81811d40950c"
      },
      "source": [
        "len(df)"
      ],
      "execution_count": 9,
      "outputs": [
        {
          "output_type": "execute_result",
          "data": {
            "text/plain": [
              "573"
            ]
          },
          "metadata": {
            "tags": []
          },
          "execution_count": 9
        }
      ]
    },
    {
      "cell_type": "markdown",
      "metadata": {
        "id": "CJm10CTg3TXI"
      },
      "source": [
        "**TASK: Split the data into a train/test split where the test set is the last 36 months of data.**"
      ]
    },
    {
      "cell_type": "code",
      "metadata": {
        "id": "VjpZtogK3TXJ"
      },
      "source": [
        "#CODE HERE\n",
        "test_size=36\n",
        "test_ind=len(df)-test_size"
      ],
      "execution_count": 10,
      "outputs": []
    },
    {
      "cell_type": "code",
      "metadata": {
        "id": "ZToelqBg3TXJ"
      },
      "source": [
        "train=df.iloc[:test_ind]\n",
        "test=df.iloc[test_ind:]"
      ],
      "execution_count": 11,
      "outputs": []
    },
    {
      "cell_type": "code",
      "metadata": {
        "colab": {
          "base_uri": "https://localhost:8080/"
        },
        "id": "z87KKUxC3TXK",
        "outputId": "b432cae2-7eb3-4174-c83f-2bfa2d6f4e51"
      },
      "source": [
        "len(test)"
      ],
      "execution_count": 12,
      "outputs": [
        {
          "output_type": "execute_result",
          "data": {
            "text/plain": [
              "36"
            ]
          },
          "metadata": {
            "tags": []
          },
          "execution_count": 12
        }
      ]
    },
    {
      "cell_type": "markdown",
      "metadata": {
        "id": "6pBhwyVK3TXL"
      },
      "source": [
        "## Scale Data"
      ]
    },
    {
      "cell_type": "markdown",
      "metadata": {
        "id": "dcOCbfiY3TXL"
      },
      "source": [
        "**TASK: Use a MinMaxScaler to scale the train and test sets into scaled versions.**"
      ]
    },
    {
      "cell_type": "code",
      "metadata": {
        "id": "Bz86cKaG3TXM"
      },
      "source": [
        "# CODE HERE\n",
        "from sklearn.preprocessing import MinMaxScaler\n",
        "scaler=MinMaxScaler()"
      ],
      "execution_count": 13,
      "outputs": []
    },
    {
      "cell_type": "code",
      "metadata": {
        "id": "wKNXACJK3TXM"
      },
      "source": [
        "scaled_train=scaler.fit_transform(train)"
      ],
      "execution_count": 14,
      "outputs": []
    },
    {
      "cell_type": "code",
      "metadata": {
        "id": "m6crU6Hg3TXM"
      },
      "source": [
        "scaled_test=scaler.transform(test)"
      ],
      "execution_count": 15,
      "outputs": []
    },
    {
      "cell_type": "code",
      "metadata": {
        "colab": {
          "base_uri": "https://localhost:8080/"
        },
        "id": "6EfPb-z23TXN",
        "outputId": "b4b95ee0-ac40-4ef0-f4b3-4151c7272984"
      },
      "source": [
        "scaled_train"
      ],
      "execution_count": 16,
      "outputs": [
        {
          "output_type": "execute_result",
          "data": {
            "text/plain": [
              "array([[0.00947104],\n",
              "       [0.06108982],\n",
              "       [0.11326273],\n",
              "       [0.14145625],\n",
              "       [0.18982663],\n",
              "       [0.30495972],\n",
              "       [0.30154406],\n",
              "       [0.27416065],\n",
              "       [0.19736841],\n",
              "       [0.08532665],\n",
              "       [0.01561588],\n",
              "       [0.        ],\n",
              "       [0.01774221],\n",
              "       [0.09850931],\n",
              "       [0.15590133],\n",
              "       [0.18358944],\n",
              "       [0.20878908],\n",
              "       [0.37150354],\n",
              "       [0.3542551 ],\n",
              "       [0.29817568],\n",
              "       [0.23973867],\n",
              "       [0.12104304],\n",
              "       [0.05289938],\n",
              "       [0.02087498],\n",
              "       [0.03141355],\n",
              "       [0.12133246],\n",
              "       [0.18622481],\n",
              "       [0.18855185],\n",
              "       [0.23182893],\n",
              "       [0.37263651],\n",
              "       [0.32891584],\n",
              "       [0.30809031],\n",
              "       [0.22409662],\n",
              "       [0.10933731],\n",
              "       [0.05452176],\n",
              "       [0.01749278],\n",
              "       [0.04076752],\n",
              "       [0.12186114],\n",
              "       [0.19277469],\n",
              "       [0.19221257],\n",
              "       [0.28139264],\n",
              "       [0.39898221],\n",
              "       [0.35985962],\n",
              "       [0.3357137 ],\n",
              "       [0.22874706],\n",
              "       [0.12405219],\n",
              "       [0.08404241],\n",
              "       [0.02969736],\n",
              "       [0.02386668],\n",
              "       [0.11198795],\n",
              "       [0.20583228],\n",
              "       [0.22885832],\n",
              "       [0.258115  ],\n",
              "       [0.37353242],\n",
              "       [0.35488703],\n",
              "       [0.32839226],\n",
              "       [0.24418041],\n",
              "       [0.11957773],\n",
              "       [0.06451857],\n",
              "       [0.02780228],\n",
              "       [0.0371497 ],\n",
              "       [0.11927158],\n",
              "       [0.22805913],\n",
              "       [0.24728191],\n",
              "       [0.29422626],\n",
              "       [0.40769115],\n",
              "       [0.39028709],\n",
              "       [0.34726599],\n",
              "       [0.24042588],\n",
              "       [0.12627596],\n",
              "       [0.06351285],\n",
              "       [0.0202285 ],\n",
              "       [0.02347545],\n",
              "       [0.10334519],\n",
              "       [0.1837756 ],\n",
              "       [0.2210642 ],\n",
              "       [0.24573807],\n",
              "       [0.38298674],\n",
              "       [0.35098488],\n",
              "       [0.32746581],\n",
              "       [0.23241214],\n",
              "       [0.14925109],\n",
              "       [0.06708485],\n",
              "       [0.02722198],\n",
              "       [0.03164989],\n",
              "       [0.11112186],\n",
              "       [0.2019265 ],\n",
              "       [0.23665099],\n",
              "       [0.26208914],\n",
              "       [0.37409745],\n",
              "       [0.35265235],\n",
              "       [0.34987663],\n",
              "       [0.26656578],\n",
              "       [0.15226024],\n",
              "       [0.06714158],\n",
              "       [0.03363442],\n",
              "       [0.06052406],\n",
              "       [0.12932729],\n",
              "       [0.19801489],\n",
              "       [0.21334643],\n",
              "       [0.24370918],\n",
              "       [0.36219466],\n",
              "       [0.35788891],\n",
              "       [0.35776456],\n",
              "       [0.23277138],\n",
              "       [0.12775799],\n",
              "       [0.05691861],\n",
              "       [0.03785508],\n",
              "       [0.01381533],\n",
              "       [0.12962762],\n",
              "       [0.20328854],\n",
              "       [0.22088022],\n",
              "       [0.25480042],\n",
              "       [0.37831666],\n",
              "       [0.37904459],\n",
              "       [0.34512729],\n",
              "       [0.23860352],\n",
              "       [0.13282148],\n",
              "       [0.08994218],\n",
              "       [0.05773525],\n",
              "       [0.02483822],\n",
              "       [0.13358431],\n",
              "       [0.21702097],\n",
              "       [0.20059209],\n",
              "       [0.25218323],\n",
              "       [0.35104815],\n",
              "       [0.30896077],\n",
              "       [0.2875462 ],\n",
              "       [0.20017176],\n",
              "       [0.0975465 ],\n",
              "       [0.05358004],\n",
              "       [0.02042848],\n",
              "       [0.03538915],\n",
              "       [0.11420518],\n",
              "       [0.20355324],\n",
              "       [0.18085953],\n",
              "       [0.25954903],\n",
              "       [0.37499118],\n",
              "       [0.35553497],\n",
              "       [0.3391439 ],\n",
              "       [0.27074427],\n",
              "       [0.148385  ],\n",
              "       [0.08505031],\n",
              "       [0.05037236],\n",
              "       [0.06065787],\n",
              "       [0.19601364],\n",
              "       [0.27717707],\n",
              "       [0.31389336],\n",
              "       [0.36123257],\n",
              "       [0.5103535 ],\n",
              "       [0.48335114],\n",
              "       [0.42139813],\n",
              "       [0.35071873],\n",
              "       [0.21527206],\n",
              "       [0.15798912],\n",
              "       [0.11136474],\n",
              "       [0.12736022],\n",
              "       [0.20326527],\n",
              "       [0.30960943],\n",
              "       [0.33601549],\n",
              "       [0.40474599],\n",
              "       [0.52313039],\n",
              "       [0.47891086],\n",
              "       [0.42749206],\n",
              "       [0.33018917],\n",
              "       [0.20046264],\n",
              "       [0.11634751],\n",
              "       [0.08706829],\n",
              "       [0.10924132],\n",
              "       [0.22016465],\n",
              "       [0.30084013],\n",
              "       [0.33190536],\n",
              "       [0.39731693],\n",
              "       [0.4993168 ],\n",
              "       [0.4556863 ],\n",
              "       [0.43936795],\n",
              "       [0.27786718],\n",
              "       [0.20181378],\n",
              "       [0.13316399],\n",
              "       [0.08697739],\n",
              "       [0.11117567],\n",
              "       [0.2609009 ],\n",
              "       [0.32682078],\n",
              "       [0.35021332],\n",
              "       [0.42287143],\n",
              "       [0.53338753],\n",
              "       [0.49991019],\n",
              "       [0.47278857],\n",
              "       [0.34951085],\n",
              "       [0.22357085],\n",
              "       [0.18885364],\n",
              "       [0.15302162],\n",
              "       [0.15446002],\n",
              "       [0.28620889],\n",
              "       [0.41037451],\n",
              "       [0.44149937],\n",
              "       [0.51908643],\n",
              "       [0.67098671],\n",
              "       [0.6310693 ],\n",
              "       [0.59691057],\n",
              "       [0.42703174],\n",
              "       [0.30134117],\n",
              "       [0.21173496],\n",
              "       [0.17769331],\n",
              "       [0.21058162],\n",
              "       [0.33226023],\n",
              "       [0.41286154],\n",
              "       [0.45465949],\n",
              "       [0.49043479],\n",
              "       [0.5949195 ],\n",
              "       [0.55552639],\n",
              "       [0.50626082],\n",
              "       [0.37695462],\n",
              "       [0.28191477],\n",
              "       [0.23327315],\n",
              "       [0.19892025],\n",
              "       [0.17357736],\n",
              "       [0.32809629],\n",
              "       [0.4263489 ],\n",
              "       [0.46025165],\n",
              "       [0.4935632 ],\n",
              "       [0.60079527],\n",
              "       [0.617843  ],\n",
              "       [0.51202315],\n",
              "       [0.40538302],\n",
              "       [0.28864864],\n",
              "       [0.21277195],\n",
              "       [0.19688192],\n",
              "       [0.19348371],\n",
              "       [0.33595876],\n",
              "       [0.4323352 ],\n",
              "       [0.46814249],\n",
              "       [0.50374908],\n",
              "       [0.71868953],\n",
              "       [0.59645534],\n",
              "       [0.56009611],\n",
              "       [0.45327491],\n",
              "       [0.32803084],\n",
              "       [0.24159158],\n",
              "       [0.22064751],\n",
              "       [0.22953752],\n",
              "       [0.37632559],\n",
              "       [0.52945048],\n",
              "       [0.55670736],\n",
              "       [0.61181451],\n",
              "       [0.72450058],\n",
              "       [0.64286447],\n",
              "       [0.62011695],\n",
              "       [0.49738245],\n",
              "       [0.36981643],\n",
              "       [0.29573592],\n",
              "       [0.24950569],\n",
              "       [0.26693083],\n",
              "       [0.47106438],\n",
              "       [0.54508017],\n",
              "       [0.59702983],\n",
              "       [0.66830844],\n",
              "       [0.77390504],\n",
              "       [0.7325754 ],\n",
              "       [0.6803734 ],\n",
              "       [0.50636554],\n",
              "       [0.37017931],\n",
              "       [0.2737985 ],\n",
              "       [0.23159986],\n",
              "       [0.29683036],\n",
              "       [0.44392749],\n",
              "       [0.54969425],\n",
              "       [0.60065928],\n",
              "       [0.62634759],\n",
              "       [0.73133116],\n",
              "       [0.70677655],\n",
              "       [0.61726342],\n",
              "       [0.45562739],\n",
              "       [0.37282413],\n",
              "       [0.31570409],\n",
              "       [0.25793611],\n",
              "       [0.33661906],\n",
              "       [0.46491009],\n",
              "       [0.58333448],\n",
              "       [0.66460627],\n",
              "       [0.65484071],\n",
              "       [0.84212141],\n",
              "       [0.83159666],\n",
              "       [0.77134312],\n",
              "       [0.5765359 ],\n",
              "       [0.49703412],\n",
              "       [0.35935495],\n",
              "       [0.26985999],\n",
              "       [0.36437626],\n",
              "       [0.51454071],\n",
              "       [0.63086641],\n",
              "       [0.67844487],\n",
              "       [0.7149939 ],\n",
              "       [0.91226778],\n",
              "       [0.80510188],\n",
              "       [0.68516274],\n",
              "       [0.56400117],\n",
              "       [0.39649446],\n",
              "       [0.2818566 ],\n",
              "       [0.26014025],\n",
              "       [0.32665061],\n",
              "       [0.49801438],\n",
              "       [0.57758088],\n",
              "       [0.57365619],\n",
              "       [0.60384732],\n",
              "       [0.72545175],\n",
              "       [0.63770353],\n",
              "       [0.573702  ],\n",
              "       [0.42061493],\n",
              "       [0.34058739],\n",
              "       [0.26069946],\n",
              "       [0.18097152],\n",
              "       [0.2756834 ],\n",
              "       [0.43318312],\n",
              "       [0.51407385],\n",
              "       [0.55039963],\n",
              "       [0.595334  ],\n",
              "       [0.65870359],\n",
              "       [0.58609057],\n",
              "       [0.51790837],\n",
              "       [0.40765115],\n",
              "       [0.27578448],\n",
              "       [0.17157466],\n",
              "       [0.14559837],\n",
              "       [0.20169161],\n",
              "       [0.30520478],\n",
              "       [0.34726308],\n",
              "       [0.39276975],\n",
              "       [0.4190151 ],\n",
              "       [0.51046112],\n",
              "       [0.46158897],\n",
              "       [0.44354134],\n",
              "       [0.32636192],\n",
              "       [0.24344375],\n",
              "       [0.1867324 ],\n",
              "       [0.1517403 ],\n",
              "       [0.25227413],\n",
              "       [0.3827584 ],\n",
              "       [0.482933  ],\n",
              "       [0.5663013 ],\n",
              "       [0.5595318 ],\n",
              "       [0.66509713],\n",
              "       [0.63101039],\n",
              "       [0.53208803],\n",
              "       [0.42556207],\n",
              "       [0.40049988],\n",
              "       [0.24705066],\n",
              "       [0.21710605],\n",
              "       [0.3106246 ],\n",
              "       [0.41679205],\n",
              "       [0.4655653 ],\n",
              "       [0.55069633],\n",
              "       [0.53323628],\n",
              "       [0.65273256],\n",
              "       [0.6022453 ],\n",
              "       [0.55351132],\n",
              "       [0.50874712],\n",
              "       [0.41053159],\n",
              "       [0.3376495 ],\n",
              "       [0.33408986],\n",
              "       [0.45304729],\n",
              "       [0.61827568],\n",
              "       [0.70208393],\n",
              "       [0.80395291],\n",
              "       [0.7747675 ],\n",
              "       [0.94670357],\n",
              "       [0.83318341],\n",
              "       [0.76047149],\n",
              "       [0.66868586],\n",
              "       [0.56791495],\n",
              "       [0.40647818],\n",
              "       [0.34147893],\n",
              "       [0.48424123],\n",
              "       [0.60888972],\n",
              "       [0.62540223],\n",
              "       [0.67443146],\n",
              "       [0.64487663],\n",
              "       [0.75766377],\n",
              "       [0.63589572],\n",
              "       [0.59974083],\n",
              "       [0.49501178],\n",
              "       [0.41579651],\n",
              "       [0.34921415],\n",
              "       [0.25354891],\n",
              "       [0.33055422],\n",
              "       [0.48986321],\n",
              "       [0.59474788],\n",
              "       [0.65434403],\n",
              "       [0.66753543],\n",
              "       [0.80265631],\n",
              "       [0.71705115],\n",
              "       [0.68986262],\n",
              "       [0.62369695],\n",
              "       [0.58805692],\n",
              "       [0.44984325],\n",
              "       [0.38266895],\n",
              "       [0.52076263],\n",
              "       [0.65111818],\n",
              "       [0.73167294],\n",
              "       [0.82298299],\n",
              "       [0.80931746],\n",
              "       [1.        ],\n",
              "       [0.95692363],\n",
              "       [0.87718478],\n",
              "       [0.69141447],\n",
              "       [0.62214002],\n",
              "       [0.4621831 ],\n",
              "       [0.3511725 ],\n",
              "       [0.52481749],\n",
              "       [0.62277559],\n",
              "       [0.71054126],\n",
              "       [0.79313728],\n",
              "       [0.73648118],\n",
              "       [0.90148196],\n",
              "       [0.85356971],\n",
              "       [0.76810199],\n",
              "       [0.63817985],\n",
              "       [0.50364654],\n",
              "       [0.38121819],\n",
              "       [0.31740064],\n",
              "       [0.49162376],\n",
              "       [0.58495105],\n",
              "       [0.68667095],\n",
              "       [0.80952762],\n",
              "       [0.79009104],\n",
              "       [0.88302055],\n",
              "       [0.78941838],\n",
              "       [0.65857997],\n",
              "       [0.60582894],\n",
              "       [0.49204408],\n",
              "       [0.32987647],\n",
              "       [0.2969518 ],\n",
              "       [0.35876955],\n",
              "       [0.48110555],\n",
              "       [0.59006762],\n",
              "       [0.60473814],\n",
              "       [0.61824732],\n",
              "       [0.80533386],\n",
              "       [0.62801433],\n",
              "       [0.58998181],\n",
              "       [0.47530395],\n",
              "       [0.36576521],\n",
              "       [0.3184129 ],\n",
              "       [0.18278007],\n",
              "       [0.25838552],\n",
              "       [0.41127697],\n",
              "       [0.51611292],\n",
              "       [0.54115039],\n",
              "       [0.57690677],\n",
              "       [0.66681259],\n",
              "       [0.55138499],\n",
              "       [0.53718642],\n",
              "       [0.4420215 ],\n",
              "       [0.34988681],\n",
              "       [0.21230072],\n",
              "       [0.13914302],\n",
              "       [0.23728292],\n",
              "       [0.37697716],\n",
              "       [0.49767551],\n",
              "       [0.53803288],\n",
              "       [0.55192821],\n",
              "       [0.62024348],\n",
              "       [0.51047058],\n",
              "       [0.48647082],\n",
              "       [0.41747634],\n",
              "       [0.28427817],\n",
              "       [0.16309115],\n",
              "       [0.10268271],\n",
              "       [0.24689286],\n",
              "       [0.3454618 ],\n",
              "       [0.40423986],\n",
              "       [0.42151084],\n",
              "       [0.41797011],\n",
              "       [0.45169179],\n",
              "       [0.41887911],\n",
              "       [0.40972803],\n",
              "       [0.31339595],\n",
              "       [0.23591506],\n",
              "       [0.12980579],\n",
              "       [0.09307932],\n",
              "       [0.19444507],\n",
              "       [0.29743684],\n",
              "       [0.39142952],\n",
              "       [0.40833181],\n",
              "       [0.40654945],\n",
              "       [0.47764626],\n",
              "       [0.39026746],\n",
              "       [0.35620545],\n",
              "       [0.27422828],\n",
              "       [0.2198076 ],\n",
              "       [0.11764411],\n",
              "       [0.07351475],\n",
              "       [0.14149624],\n",
              "       [0.2863296 ],\n",
              "       [0.35795581],\n",
              "       [0.35814561],\n",
              "       [0.37998486],\n",
              "       [0.50926561],\n",
              "       [0.39057433],\n",
              "       [0.34465461],\n",
              "       [0.28747203],\n",
              "       [0.23516459],\n",
              "       [0.15569044],\n",
              "       [0.06649001],\n",
              "       [0.20170834],\n",
              "       [0.31321197],\n",
              "       [0.40080166],\n",
              "       [0.44136265],\n",
              "       [0.42156466],\n",
              "       [0.52634606],\n",
              "       [0.42622818],\n",
              "       [0.38365722],\n",
              "       [0.30511534],\n",
              "       [0.23707931],\n",
              "       [0.20297948],\n",
              "       [0.12155208],\n",
              "       [0.19574094],\n",
              "       [0.30468338],\n",
              "       [0.37028329],\n",
              "       [0.36143183],\n",
              "       [0.34467716],\n",
              "       [0.41797884],\n",
              "       [0.36154745],\n",
              "       [0.38938173],\n",
              "       [0.30315844],\n",
              "       [0.25649698],\n",
              "       [0.19782873],\n",
              "       [0.13318726],\n",
              "       [0.24834362],\n",
              "       [0.3149827 ],\n",
              "       [0.41828135],\n",
              "       [0.4766849 ],\n",
              "       [0.45728977],\n",
              "       [0.54050318],\n",
              "       [0.48134479],\n",
              "       [0.45575247],\n",
              "       [0.35906261]])"
            ]
          },
          "metadata": {
            "tags": []
          },
          "execution_count": 16
        }
      ]
    },
    {
      "cell_type": "code",
      "metadata": {
        "colab": {
          "base_uri": "https://localhost:8080/"
        },
        "id": "8b-cKMau3TXO",
        "outputId": "718ac1e8-764c-4353-874d-f5befeb742cc"
      },
      "source": [
        "scaled_test"
      ],
      "execution_count": 17,
      "outputs": [
        {
          "output_type": "execute_result",
          "data": {
            "text/plain": [
              "array([[0.31068714],\n",
              "       [0.20365141],\n",
              "       [0.16432593],\n",
              "       [0.2587782 ],\n",
              "       [0.39071032],\n",
              "       [0.44387077],\n",
              "       [0.4695409 ],\n",
              "       [0.41743926],\n",
              "       [0.46851409],\n",
              "       [0.41889656],\n",
              "       [0.39641011],\n",
              "       [0.28544533],\n",
              "       [0.23134679],\n",
              "       [0.13655347],\n",
              "       [0.12472921],\n",
              "       [0.18015997],\n",
              "       [0.29691617],\n",
              "       [0.35382169],\n",
              "       [0.39102302],\n",
              "       [0.37592272],\n",
              "       [0.47940099],\n",
              "       [0.42586022],\n",
              "       [0.3928192 ],\n",
              "       [0.32470899],\n",
              "       [0.2434103 ],\n",
              "       [0.17289089],\n",
              "       [0.13163033],\n",
              "       [0.20608099],\n",
              "       [0.28689318],\n",
              "       [0.41822681],\n",
              "       [0.40948951],\n",
              "       [0.40651527],\n",
              "       [0.48213817],\n",
              "       [0.37525952],\n",
              "       [0.3195946 ],\n",
              "       [0.31216335]])"
            ]
          },
          "metadata": {
            "tags": []
          },
          "execution_count": 17
        }
      ]
    },
    {
      "cell_type": "markdown",
      "metadata": {
        "id": "iY5f1skQ3TXO"
      },
      "source": [
        "# Time Series Generator\n",
        "\n",
        "**TASK: Create a TimeSeriesGenerator object based off the scaled_train data. The batch length is up to you, but at a minimum it should be at least 18 to capture a full year seasonality.**"
      ]
    },
    {
      "cell_type": "code",
      "metadata": {
        "id": "0pj6rGnk3TXP"
      },
      "source": [
        "#CODE HERE\n",
        "from tensorflow.keras.preprocessing.sequence import TimeseriesGenerator"
      ],
      "execution_count": 18,
      "outputs": []
    },
    {
      "cell_type": "code",
      "metadata": {
        "id": "_ZqozZZu3TXP"
      },
      "source": [
        "length=24\n",
        "n_features=1#As there is only one column we are working on\n",
        "generator=TimeseriesGenerator(scaled_train,scaled_train,length=length,batch_size=1)"
      ],
      "execution_count": 19,
      "outputs": []
    },
    {
      "cell_type": "code",
      "metadata": {
        "id": "s7wTFcwj3TXQ"
      },
      "source": [
        "X,y=generator[0]"
      ],
      "execution_count": 20,
      "outputs": []
    },
    {
      "cell_type": "code",
      "metadata": {
        "colab": {
          "base_uri": "https://localhost:8080/"
        },
        "id": "xzVReiaFBVX_",
        "outputId": "44987586-2701-4a00-c829-88b0a5593345"
      },
      "source": [
        "print(f'Given the Array: \\n{X.flatten()}')\n",
        "print(f'Predict this y: \\n {y}')"
      ],
      "execution_count": 21,
      "outputs": [
        {
          "output_type": "stream",
          "text": [
            "Given the Array: \n",
            "[0.00947104 0.06108982 0.11326273 0.14145625 0.18982663 0.30495972\n",
            " 0.30154406 0.27416065 0.19736841 0.08532665 0.01561588 0.\n",
            " 0.01774221 0.09850931 0.15590133 0.18358944 0.20878908 0.37150354\n",
            " 0.3542551  0.29817568 0.23973867 0.12104304 0.05289938 0.02087498]\n",
            "Predict this y: \n",
            " [[0.03141355]]\n"
          ],
          "name": "stdout"
        }
      ]
    },
    {
      "cell_type": "code",
      "metadata": {
        "colab": {
          "base_uri": "https://localhost:8080/"
        },
        "id": "SUs6I-SNBr3H",
        "outputId": "a3b0aca5-9626-4bff-f6cd-2dd26e851505"
      },
      "source": [
        "scaled_train[24]"
      ],
      "execution_count": 22,
      "outputs": [
        {
          "output_type": "execute_result",
          "data": {
            "text/plain": [
              "array([0.03141355])"
            ]
          },
          "metadata": {
            "tags": []
          },
          "execution_count": 22
        }
      ]
    },
    {
      "cell_type": "markdown",
      "metadata": {
        "id": "HWVTG6AS3TXQ"
      },
      "source": [
        "### Create the Model\n",
        "\n",
        "**TASK: Create a Keras Sequential Model with as many LSTM/GRU units you want and a final Dense Layer.**"
      ]
    },
    {
      "cell_type": "code",
      "metadata": {
        "id": "Oi0cwlWG3TXR"
      },
      "source": [
        "from tensorflow.keras.models import Sequential\n",
        "from tensorflow.keras.layers import Dense,LSTM,RNN,GRU"
      ],
      "execution_count": 23,
      "outputs": []
    },
    {
      "cell_type": "code",
      "metadata": {
        "id": "7jmeiAXj3TXR"
      },
      "source": [
        "#define the model\n",
        "model=Sequential()\n",
        "model.add(GRU(120,input_shape=(length,n_features),))\n",
        "\n",
        "model.add(Dense(1))#Output layer\n",
        "\n",
        "#Optimaztion of layer\n",
        "model.compile(optimizer='adam', loss='mse')"
      ],
      "execution_count": 24,
      "outputs": []
    },
    {
      "cell_type": "code",
      "metadata": {
        "colab": {
          "base_uri": "https://localhost:8080/"
        },
        "id": "RwCv9to53TXR",
        "outputId": "31a4d605-aeef-48e8-a228-ac4413ba6bcd"
      },
      "source": [
        "model.summary()"
      ],
      "execution_count": 25,
      "outputs": [
        {
          "output_type": "stream",
          "text": [
            "Model: \"sequential\"\n",
            "_________________________________________________________________\n",
            "Layer (type)                 Output Shape              Param #   \n",
            "=================================================================\n",
            "gru (GRU)                    (None, 120)               44280     \n",
            "_________________________________________________________________\n",
            "dense (Dense)                (None, 1)                 121       \n",
            "=================================================================\n",
            "Total params: 44,401\n",
            "Trainable params: 44,401\n",
            "Non-trainable params: 0\n",
            "_________________________________________________________________\n"
          ],
          "name": "stdout"
        }
      ]
    },
    {
      "cell_type": "markdown",
      "metadata": {
        "id": "3uzLMyRE3TXS"
      },
      "source": [
        "**Create a generator for the scaled test/validation set. NOTE: Double check that your batch length makes sense for the size of the test set**"
      ]
    },
    {
      "cell_type": "code",
      "metadata": {
        "id": "_kvVLzGm3TXT"
      },
      "source": [
        "# CODE HERE\n",
        "valid_gen=TimeseriesGenerator(scaled_test,scaled_test,length=length,batch_size=1)"
      ],
      "execution_count": 26,
      "outputs": []
    },
    {
      "cell_type": "markdown",
      "metadata": {
        "id": "iOkaxApK3TXT"
      },
      "source": [
        "**TASK: Create an EarlyStopping callback based on val_loss.**"
      ]
    },
    {
      "cell_type": "code",
      "metadata": {
        "id": "y7QjwxV93TXU"
      },
      "source": [
        "from tensorflow.keras.callbacks import EarlyStopping"
      ],
      "execution_count": 27,
      "outputs": []
    },
    {
      "cell_type": "code",
      "metadata": {
        "id": "hb8SpTnV3TXU"
      },
      "source": [
        "early_stop=EarlyStopping(monitor='val_loss',patience=1)"
      ],
      "execution_count": 28,
      "outputs": []
    },
    {
      "cell_type": "markdown",
      "metadata": {
        "id": "gLrFB3PN3TXV"
      },
      "source": [
        "**TASK: Fit the model to the generator, let the EarlyStopping dictate the amount of epochs, so feel free to set the parameter high.**"
      ]
    },
    {
      "cell_type": "code",
      "metadata": {
        "colab": {
          "base_uri": "https://localhost:8080/"
        },
        "id": "Ci7K3BKS3TXV",
        "outputId": "fd9773f3-9554-456a-c0a8-e27db72c83da"
      },
      "source": [
        "model.fit(generator,epochs=10,validation_data=valid_gen,\n",
        "          callbacks=[early_stop])"
      ],
      "execution_count": 29,
      "outputs": [
        {
          "output_type": "stream",
          "text": [
            "Epoch 1/10\n",
            "513/513 [==============================] - 7s 11ms/step - loss: 0.0368 - val_loss: 0.0028\n",
            "Epoch 2/10\n",
            "513/513 [==============================] - 5s 10ms/step - loss: 0.0044 - val_loss: 0.0038\n"
          ],
          "name": "stdout"
        },
        {
          "output_type": "execute_result",
          "data": {
            "text/plain": [
              "<tensorflow.python.keras.callbacks.History at 0x7fe2cc8239d0>"
            ]
          },
          "metadata": {
            "tags": []
          },
          "execution_count": 29
        }
      ]
    },
    {
      "cell_type": "code",
      "metadata": {
        "colab": {
          "base_uri": "https://localhost:8080/"
        },
        "id": "fsOfnJKZ3TXW",
        "outputId": "4459456b-37ef-4fff-b0e1-30bf63539cf5"
      },
      "source": [
        "model.history.history"
      ],
      "execution_count": 30,
      "outputs": [
        {
          "output_type": "execute_result",
          "data": {
            "text/plain": [
              "{'loss': [0.01720367558300495, 0.004230565391480923],\n",
              " 'val_loss': [0.0027958229184150696, 0.003824223531410098]}"
            ]
          },
          "metadata": {
            "tags": []
          },
          "execution_count": 30
        }
      ]
    },
    {
      "cell_type": "markdown",
      "metadata": {
        "id": "c-GTPy4y3TXW"
      },
      "source": [
        "**TASK: Plot the history of the loss that occured during training.**"
      ]
    },
    {
      "cell_type": "code",
      "metadata": {
        "id": "M3cMVHHx3TXW"
      },
      "source": [
        "losses=pd.DataFrame(model.history.history)"
      ],
      "execution_count": 31,
      "outputs": []
    },
    {
      "cell_type": "code",
      "metadata": {
        "colab": {
          "base_uri": "https://localhost:8080/",
          "height": 282
        },
        "id": "e8uY9G2I3TXX",
        "outputId": "432618da-15a6-49e3-bc88-cc142a543337"
      },
      "source": [
        "losses.plot()"
      ],
      "execution_count": 32,
      "outputs": [
        {
          "output_type": "execute_result",
          "data": {
            "text/plain": [
              "<matplotlib.axes._subplots.AxesSubplot at 0x7fe29215e6d0>"
            ]
          },
          "metadata": {
            "tags": []
          },
          "execution_count": 32
        },
        {
          "output_type": "display_data",
          "data": {
            "image/png": "[encoded data removed]",
            "text/plain": [
              "<Figure size 432x288 with 1 Axes>"
            ]
          },
          "metadata": {
            "tags": [],
            "needs_background": "light"
          }
        }
      ]
    },
    {
      "cell_type": "markdown",
      "metadata": {
        "id": "NxqN4snf3TXX"
      },
      "source": [
        "## Evaluate on Test Data\n",
        "\n",
        "**TASK: Forecast predictions for your test data range (the last 12 months of the entire dataset). Remember to inverse your scaling transformations. Your final result should be a DataFrame with two columns, the true test values and the predictions.**"
      ]
    },
    {
      "cell_type": "code",
      "metadata": {
        "id": "O7MIixkK3TXX"
      },
      "source": [
        "# CODE HERE\n",
        "test_pred=[]\n",
        "\n",
        "first_eval_batch=scaled_train[-length:]#Last 36 months of my training dataset\n",
        "curr_batch=first_eval_batch.reshape((1,length,n_features))\n",
        "\n",
        "for i in range(len(test)):\n",
        "\n",
        "  curr_pred=model.predict(curr_batch)[0]#predicting first one and saving in curr_pred on basis of last 36 months\n",
        "\n",
        "  #predicting and adding to the list to compare with original one\n",
        "  test_pred.append(curr_pred)\n",
        "\n",
        "  #finally update current prediction value by removing top one after it's predicted and appending it with curr_pred value\n",
        "  curr_batch=np.append(curr_batch[:,1:,:],[[curr_pred]],axis=1)"
      ],
      "execution_count": 33,
      "outputs": []
    },
    {
      "cell_type": "code",
      "metadata": {
        "colab": {
          "base_uri": "https://localhost:8080/"
        },
        "id": "Jv9pp7uJ3TXY",
        "outputId": "eda47b56-15ca-478f-a86b-59cc308a3d8e"
      },
      "source": [
        "test_pred"
      ],
      "execution_count": 34,
      "outputs": [
        {
          "output_type": "execute_result",
          "data": {
            "text/plain": [
              "[array([0.33729416], dtype=float32),\n",
              " array([0.32401374], dtype=float32),\n",
              " array([0.3535629], dtype=float32),\n",
              " array([0.41549283], dtype=float32),\n",
              " array([0.49172378], dtype=float32),\n",
              " array([0.56577563], dtype=float32),\n",
              " array([0.6250505], dtype=float32),\n",
              " array([0.660652], dtype=float32),\n",
              " array([0.66708213], dtype=float32),\n",
              " array([0.6432465], dtype=float32),\n",
              " array([0.597095], dtype=float32),\n",
              " array([0.5439223], dtype=float32),\n",
              " array([0.50560886], dtype=float32),\n",
              " array([0.49906904], dtype=float32),\n",
              " array([0.5290398], dtype=float32),\n",
              " array([0.58728606], dtype=float32),\n",
              " array([0.6571901], dtype=float32),\n",
              " array([0.7236983], dtype=float32),\n",
              " array([0.7740144], dtype=float32),\n",
              " array([0.7993254], dtype=float32),\n",
              " array([0.79543394], dtype=float32),\n",
              " array([0.7630656], dtype=float32),\n",
              " array([0.71219164], dtype=float32),\n",
              " array([0.65978044], dtype=float32),\n",
              " array([0.626154], dtype=float32),\n",
              " array([0.6244235], dtype=float32),\n",
              " array([0.6554431], dtype=float32),\n",
              " array([0.7089128], dtype=float32),\n",
              " array([0.77000874], dtype=float32),\n",
              " array([0.8246819], dtype=float32),\n",
              " array([0.8619108], dtype=float32),\n",
              " array([0.874465], dtype=float32),\n",
              " array([0.85985804], dtype=float32),\n",
              " array([0.8218839], dtype=float32),\n",
              " array([0.7716006], dtype=float32),\n",
              " array([0.72555256], dtype=float32)]"
            ]
          },
          "metadata": {
            "tags": []
          },
          "execution_count": 34
        }
      ]
    },
    {
      "cell_type": "code",
      "metadata": {
        "id": "nApPN1q83TXY"
      },
      "source": [
        "true_pred=scaler.inverse_transform(test_pred)"
      ],
      "execution_count": 35,
      "outputs": []
    },
    {
      "cell_type": "code",
      "metadata": {
        "colab": {
          "base_uri": "https://localhost:8080/"
        },
        "id": "6wqK_GgU3TXY",
        "outputId": "b0322272-9fdb-4285-edc1-f2c3115792a2"
      },
      "source": [
        "test['Prediction']=true_pred"
      ],
      "execution_count": 36,
      "outputs": [
        {
          "output_type": "stream",
          "text": [
            "/usr/local/lib/python3.7/dist-packages/ipykernel_launcher.py:1: SettingWithCopyWarning: \n",
            "A value is trying to be set on a copy of a slice from a DataFrame.\n",
            "Try using .loc[row_indexer,col_indexer] = value instead\n",
            "\n",
            "See the caveats in the documentation: https://pandas.pydata.org/pandas-docs/stable/user_guide/indexing.html#returning-a-view-versus-a-copy\n",
            "  \"\"\"Entry point for launching an IPython kernel.\n"
          ],
          "name": "stderr"
        }
      ]
    },
    {
      "cell_type": "code",
      "metadata": {
        "colab": {
          "base_uri": "https://localhost:8080/",
          "height": 1000
        },
        "id": "DYiWTM8Q3TXZ",
        "outputId": "e6f6f7ac-d21b-4374-f5f7-dfa1f23453d2"
      },
      "source": [
        "test"
      ],
      "execution_count": 37,
      "outputs": [
        {
          "output_type": "execute_result",
          "data": {
            "text/html": [
              "<div>\n",
              "<style scoped>\n",
              "    .dataframe tbody tr th:only-of-type {\n",
              "        vertical-align: middle;\n",
              "    }\n",
              "\n",
              "    .dataframe tbody tr th {\n",
              "        vertical-align: top;\n",
              "    }\n",
              "\n",
              "    .dataframe thead th {\n",
              "        text-align: right;\n",
              "    }\n",
              "</style>\n",
              "<table border=\"1\" class=\"dataframe\">\n",
              "  <thead>\n",
              "    <tr style=\"text-align: right;\">\n",
              "      <th></th>\n",
              "      <th>Production</th>\n",
              "      <th>Prediction</th>\n",
              "    </tr>\n",
              "    <tr>\n",
              "      <th>DATE</th>\n",
              "      <th></th>\n",
              "      <th></th>\n",
              "    </tr>\n",
              "  </thead>\n",
              "  <tbody>\n",
              "    <tr>\n",
              "      <th>2016-10-01</th>\n",
              "      <td>101.3836</td>\n",
              "      <td>105.042436</td>\n",
              "    </tr>\n",
              "    <tr>\n",
              "      <th>2016-11-01</th>\n",
              "      <td>86.6647</td>\n",
              "      <td>103.216193</td>\n",
              "    </tr>\n",
              "    <tr>\n",
              "      <th>2016-12-01</th>\n",
              "      <td>81.2569</td>\n",
              "      <td>107.279612</td>\n",
              "    </tr>\n",
              "    <tr>\n",
              "      <th>2017-01-01</th>\n",
              "      <td>94.2454</td>\n",
              "      <td>115.795840</td>\n",
              "    </tr>\n",
              "    <tr>\n",
              "      <th>2017-02-01</th>\n",
              "      <td>112.3879</td>\n",
              "      <td>126.278654</td>\n",
              "    </tr>\n",
              "    <tr>\n",
              "      <th>2017-03-01</th>\n",
              "      <td>119.6982</td>\n",
              "      <td>136.461814</td>\n",
              "    </tr>\n",
              "    <tr>\n",
              "      <th>2017-04-01</th>\n",
              "      <td>123.2282</td>\n",
              "      <td>144.612930</td>\n",
              "    </tr>\n",
              "    <tr>\n",
              "      <th>2017-05-01</th>\n",
              "      <td>116.0635</td>\n",
              "      <td>149.508631</td>\n",
              "    </tr>\n",
              "    <tr>\n",
              "      <th>2017-06-01</th>\n",
              "      <td>123.0870</td>\n",
              "      <td>150.392865</td>\n",
              "    </tr>\n",
              "    <tr>\n",
              "      <th>2017-07-01</th>\n",
              "      <td>116.2639</td>\n",
              "      <td>147.115131</td>\n",
              "    </tr>\n",
              "    <tr>\n",
              "      <th>2017-08-01</th>\n",
              "      <td>113.1717</td>\n",
              "      <td>140.768664</td>\n",
              "    </tr>\n",
              "    <tr>\n",
              "      <th>2017-09-01</th>\n",
              "      <td>97.9125</td>\n",
              "      <td>133.456677</td>\n",
              "    </tr>\n",
              "    <tr>\n",
              "      <th>2017-10-01</th>\n",
              "      <td>90.4732</td>\n",
              "      <td>128.188046</td>\n",
              "    </tr>\n",
              "    <tr>\n",
              "      <th>2017-11-01</th>\n",
              "      <td>77.4378</td>\n",
              "      <td>127.288729</td>\n",
              "    </tr>\n",
              "    <tr>\n",
              "      <th>2017-12-01</th>\n",
              "      <td>75.8118</td>\n",
              "      <td>131.410126</td>\n",
              "    </tr>\n",
              "    <tr>\n",
              "      <th>2018-01-01</th>\n",
              "      <td>83.4343</td>\n",
              "      <td>139.419796</td>\n",
              "    </tr>\n",
              "    <tr>\n",
              "      <th>2018-02-01</th>\n",
              "      <td>99.4899</td>\n",
              "      <td>149.032572</td>\n",
              "    </tr>\n",
              "    <tr>\n",
              "      <th>2018-03-01</th>\n",
              "      <td>107.3152</td>\n",
              "      <td>158.178378</td>\n",
              "    </tr>\n",
              "    <tr>\n",
              "      <th>2018-04-01</th>\n",
              "      <td>112.4309</td>\n",
              "      <td>165.097541</td>\n",
              "    </tr>\n",
              "    <tr>\n",
              "      <th>2018-05-01</th>\n",
              "      <td>110.3544</td>\n",
              "      <td>168.578154</td>\n",
              "    </tr>\n",
              "    <tr>\n",
              "      <th>2018-06-01</th>\n",
              "      <td>124.5841</td>\n",
              "      <td>168.043023</td>\n",
              "    </tr>\n",
              "    <tr>\n",
              "      <th>2018-07-01</th>\n",
              "      <td>117.2215</td>\n",
              "      <td>163.591923</td>\n",
              "    </tr>\n",
              "    <tr>\n",
              "      <th>2018-08-01</th>\n",
              "      <td>112.6779</td>\n",
              "      <td>156.596050</td>\n",
              "    </tr>\n",
              "    <tr>\n",
              "      <th>2018-09-01</th>\n",
              "      <td>103.3118</td>\n",
              "      <td>149.388782</td>\n",
              "    </tr>\n",
              "    <tr>\n",
              "      <th>2018-10-01</th>\n",
              "      <td>92.1321</td>\n",
              "      <td>144.764679</td>\n",
              "    </tr>\n",
              "    <tr>\n",
              "      <th>2018-11-01</th>\n",
              "      <td>82.4347</td>\n",
              "      <td>144.526711</td>\n",
              "    </tr>\n",
              "    <tr>\n",
              "      <th>2018-12-01</th>\n",
              "      <td>76.7608</td>\n",
              "      <td>148.792333</td>\n",
              "    </tr>\n",
              "    <tr>\n",
              "      <th>2019-01-01</th>\n",
              "      <td>86.9988</td>\n",
              "      <td>156.145162</td>\n",
              "    </tr>\n",
              "    <tr>\n",
              "      <th>2019-02-01</th>\n",
              "      <td>98.1116</td>\n",
              "      <td>164.546705</td>\n",
              "    </tr>\n",
              "    <tr>\n",
              "      <th>2019-03-01</th>\n",
              "      <td>116.1718</td>\n",
              "      <td>172.065021</td>\n",
              "    </tr>\n",
              "    <tr>\n",
              "      <th>2019-04-01</th>\n",
              "      <td>114.9703</td>\n",
              "      <td>177.184518</td>\n",
              "    </tr>\n",
              "    <tr>\n",
              "      <th>2019-05-01</th>\n",
              "      <td>114.5613</td>\n",
              "      <td>178.910891</td>\n",
              "    </tr>\n",
              "    <tr>\n",
              "      <th>2019-06-01</th>\n",
              "      <td>124.9605</td>\n",
              "      <td>176.902232</td>\n",
              "    </tr>\n",
              "    <tr>\n",
              "      <th>2019-07-01</th>\n",
              "      <td>110.2632</td>\n",
              "      <td>171.680263</td>\n",
              "    </tr>\n",
              "    <tr>\n",
              "      <th>2019-08-01</th>\n",
              "      <td>102.6085</td>\n",
              "      <td>164.765608</td>\n",
              "    </tr>\n",
              "    <tr>\n",
              "      <th>2019-09-01</th>\n",
              "      <td>101.5866</td>\n",
              "      <td>158.433362</td>\n",
              "    </tr>\n",
              "  </tbody>\n",
              "</table>\n",
              "</div>"
            ],
            "text/plain": [
              "            Production  Prediction\n",
              "DATE                              \n",
              "2016-10-01    101.3836  105.042436\n",
              "2016-11-01     86.6647  103.216193\n",
              "2016-12-01     81.2569  107.279612\n",
              "2017-01-01     94.2454  115.795840\n",
              "2017-02-01    112.3879  126.278654\n",
              "2017-03-01    119.6982  136.461814\n",
              "2017-04-01    123.2282  144.612930\n",
              "2017-05-01    116.0635  149.508631\n",
              "2017-06-01    123.0870  150.392865\n",
              "2017-07-01    116.2639  147.115131\n",
              "2017-08-01    113.1717  140.768664\n",
              "2017-09-01     97.9125  133.456677\n",
              "2017-10-01     90.4732  128.188046\n",
              "2017-11-01     77.4378  127.288729\n",
              "2017-12-01     75.8118  131.410126\n",
              "2018-01-01     83.4343  139.419796\n",
              "2018-02-01     99.4899  149.032572\n",
              "2018-03-01    107.3152  158.178378\n",
              "2018-04-01    112.4309  165.097541\n",
              "2018-05-01    110.3544  168.578154\n",
              "2018-06-01    124.5841  168.043023\n",
              "2018-07-01    117.2215  163.591923\n",
              "2018-08-01    112.6779  156.596050\n",
              "2018-09-01    103.3118  149.388782\n",
              "2018-10-01     92.1321  144.764679\n",
              "2018-11-01     82.4347  144.526711\n",
              "2018-12-01     76.7608  148.792333\n",
              "2019-01-01     86.9988  156.145162\n",
              "2019-02-01     98.1116  164.546705\n",
              "2019-03-01    116.1718  172.065021\n",
              "2019-04-01    114.9703  177.184518\n",
              "2019-05-01    114.5613  178.910891\n",
              "2019-06-01    124.9605  176.902232\n",
              "2019-07-01    110.2632  171.680263\n",
              "2019-08-01    102.6085  164.765608\n",
              "2019-09-01    101.5866  158.433362"
            ]
          },
          "metadata": {
            "tags": []
          },
          "execution_count": 37
        }
      ]
    },
    {
      "cell_type": "markdown",
      "metadata": {
        "id": "8nclv_Z83TXZ"
      },
      "source": [
        "**TASK: Plot your predictions versus the True test values. (Your plot may look different than ours).**"
      ]
    },
    {
      "cell_type": "code",
      "metadata": {
        "colab": {
          "base_uri": "https://localhost:8080/",
          "height": 525
        },
        "id": "1SoB_zf93TXZ",
        "outputId": "ebeb33ba-a3a8-4ade-f100-f7b62130f220"
      },
      "source": [
        "# CODE HERE\n",
        "test.plot(figsize=(12,8))"
      ],
      "execution_count": 38,
      "outputs": [
        {
          "output_type": "execute_result",
          "data": {
            "text/plain": [
              "<matplotlib.axes._subplots.AxesSubplot at 0x7fe28e00a0d0>"
            ]
          },
          "metadata": {
            "tags": []
          },
          "execution_count": 38
        },
        {
          "output_type": "display_data",
          "data": {
            "image/png": "[encoded data removed]",
            "text/plain": [
              "<Figure size 864x576 with 1 Axes>"
            ]
          },
          "metadata": {
            "tags": [],
            "needs_background": "light"
          }
        }
      ]
    },
    {
      "cell_type": "markdown",
      "metadata": {
        "id": "UYtxfkKI3TXa"
      },
      "source": [
        "**TASK: Calculate your RMSE.**"
      ]
    },
    {
      "cell_type": "code",
      "metadata": {
        "id": "1yX7IU3p3TXa"
      },
      "source": [
        "#CODE HERE\n",
        "from sklearn.metrics import mean_squared_error"
      ],
      "execution_count": 39,
      "outputs": []
    },
    {
      "cell_type": "code",
      "metadata": {
        "colab": {
          "base_uri": "https://localhost:8080/"
        },
        "id": "CdGjbKhm3TXa",
        "outputId": "5a2713a9-bf79-481b-e65d-7fd9f1e14db4"
      },
      "source": [
        "np.sqrt(mean_squared_error(test['Production'],test['Prediction']))"
      ],
      "execution_count": 40,
      "outputs": [
        {
          "output_type": "execute_result",
          "data": {
            "text/plain": [
              "47.824897247038265"
            ]
          },
          "metadata": {
            "tags": []
          },
          "execution_count": 40
        }
      ]
    },
    {
      "cell_type": "code",
      "metadata": {
        "id": "7DMJbe9LHG5r"
      },
      "source": [
        "#Not good enough so change activation to 'relu' and maybe try reducing months"
      ],
      "execution_count": 41,
      "outputs": []
    },
    {
      "cell_type": "markdown",
      "metadata": {
        "id": "AWsYBpv6NWiH"
      },
      "source": [
        "**TASK: Split the data into a train/test split where the test set is the last 18 months of data.**"
      ]
    },
    {
      "cell_type": "code",
      "metadata": {
        "id": "W-Qgk6PXHWK7"
      },
      "source": [
        "#CODE HERE\n",
        "test_size=15\n",
        "test_ind=len(df)-test_size"
      ],
      "execution_count": 42,
      "outputs": []
    },
    {
      "cell_type": "code",
      "metadata": {
        "id": "d4QT5CQwNdf0"
      },
      "source": [
        "train=df.iloc[:test_ind]\n",
        "test=df.iloc[test_ind:]"
      ],
      "execution_count": 43,
      "outputs": []
    },
    {
      "cell_type": "code",
      "metadata": {
        "colab": {
          "base_uri": "https://localhost:8080/"
        },
        "id": "upfsKfMgNiGS",
        "outputId": "b44a8776-40fe-4c62-fe8c-cf517e5500bb"
      },
      "source": [
        "len(test)"
      ],
      "execution_count": 44,
      "outputs": [
        {
          "output_type": "execute_result",
          "data": {
            "text/plain": [
              "15"
            ]
          },
          "metadata": {
            "tags": []
          },
          "execution_count": 44
        }
      ]
    },
    {
      "cell_type": "markdown",
      "metadata": {
        "id": "we1BDb81NqOO"
      },
      "source": [
        "## Scale Data"
      ]
    },
    {
      "cell_type": "markdown",
      "metadata": {
        "id": "isWIsGubNt3F"
      },
      "source": [
        "**TASK: Use a MinMaxScaler to scale the train and test sets into scaled versions.**"
      ]
    },
    {
      "cell_type": "code",
      "metadata": {
        "id": "69zX-mJMNkpM"
      },
      "source": [
        "scaled_train=scaler.fit_transform(train)"
      ],
      "execution_count": 45,
      "outputs": []
    },
    {
      "cell_type": "code",
      "metadata": {
        "id": "dcJdl6MYNxfI"
      },
      "source": [
        "scaled_test=scaler.transform(test)"
      ],
      "execution_count": 46,
      "outputs": []
    },
    {
      "cell_type": "markdown",
      "metadata": {
        "id": "NU8qJO71N4Ao"
      },
      "source": [
        "## TimeSeriesGenerator"
      ]
    },
    {
      "cell_type": "markdown",
      "metadata": {
        "id": "MYcH1-M2OAS6"
      },
      "source": [
        "**TASK: Create a TimeSeriesGenerator object based off the scaled_train data. The batch length is up to you.**"
      ]
    },
    {
      "cell_type": "code",
      "metadata": {
        "id": "pUlvnSruNzXE"
      },
      "source": [
        "length=12\n",
        "n_features=1#As there is only one column we are working on\n",
        "generator=TimeseriesGenerator(scaled_train,scaled_train,length=length,batch_size=1)"
      ],
      "execution_count": 47,
      "outputs": []
    },
    {
      "cell_type": "code",
      "metadata": {
        "id": "8RTuVjeKOKZv"
      },
      "source": [
        "X,y=generator[0]"
      ],
      "execution_count": 48,
      "outputs": []
    },
    {
      "cell_type": "code",
      "metadata": {
        "colab": {
          "base_uri": "https://localhost:8080/"
        },
        "id": "cyPYl9HVOMbN",
        "outputId": "d77490da-2226-401d-fe81-c01742d85e23"
      },
      "source": [
        "print(f'Given the Array: \\n{X.flatten()}')\n",
        "print(f'Predict this y: \\n {y}')"
      ],
      "execution_count": 49,
      "outputs": [
        {
          "output_type": "stream",
          "text": [
            "Given the Array: \n",
            "[0.00947104 0.06108982 0.11326273 0.14145625 0.18982663 0.30495972\n",
            " 0.30154406 0.27416065 0.19736841 0.08532665 0.01561588 0.        ]\n",
            "Predict this y: \n",
            " [[0.01774221]]\n"
          ],
          "name": "stdout"
        }
      ]
    },
    {
      "cell_type": "code",
      "metadata": {
        "colab": {
          "base_uri": "https://localhost:8080/"
        },
        "id": "MU37hYJtOOSy",
        "outputId": "6274f70b-da2c-4da7-ffbb-33f5f6e275d1"
      },
      "source": [
        "scaled_train[18]"
      ],
      "execution_count": 50,
      "outputs": [
        {
          "output_type": "execute_result",
          "data": {
            "text/plain": [
              "array([0.3542551])"
            ]
          },
          "metadata": {
            "tags": []
          },
          "execution_count": 50
        }
      ]
    },
    {
      "cell_type": "markdown",
      "metadata": {
        "id": "8RR98BY5OeUB"
      },
      "source": [
        "### Create the Model\n",
        "\n",
        "**TASK: Create a Keras Sequential Model with as many LSTM/GRU units you want and a final Dense Layer.**"
      ]
    },
    {
      "cell_type": "code",
      "metadata": {
        "id": "J4OH_nPYORMv"
      },
      "source": [
        "#define the model\n",
        "model1=Sequential()\n",
        "model1.add(GRU(110,activation='relu',input_shape=(length,n_features)))\n",
        "\n",
        "model1.add(Dense(1))#Output layer\n",
        "\n",
        "#Optimaztion of layer\n",
        "model1.compile(optimizer='adam', loss='mse')"
      ],
      "execution_count": 51,
      "outputs": []
    },
    {
      "cell_type": "code",
      "metadata": {
        "colab": {
          "base_uri": "https://localhost:8080/"
        },
        "id": "2mJ0fN3GOko0",
        "outputId": "f8521c97-c81a-4401-c697-294f888ad257"
      },
      "source": [
        "model1.summary()"
      ],
      "execution_count": 52,
      "outputs": [
        {
          "output_type": "stream",
          "text": [
            "Model: \"sequential_1\"\n",
            "_________________________________________________________________\n",
            "Layer (type)                 Output Shape              Param #   \n",
            "=================================================================\n",
            "gru_1 (GRU)                  (None, 110)               37290     \n",
            "_________________________________________________________________\n",
            "dense_1 (Dense)              (None, 1)                 111       \n",
            "=================================================================\n",
            "Total params: 37,401\n",
            "Trainable params: 37,401\n",
            "Non-trainable params: 0\n",
            "_________________________________________________________________\n"
          ],
          "name": "stdout"
        }
      ]
    },
    {
      "cell_type": "markdown",
      "metadata": {
        "id": "4pzp1SYXOrFU"
      },
      "source": [
        "**Create a generator for the scaled test/validation set. NOTE: Double check that your batch length makes sense for the size of the test set**"
      ]
    },
    {
      "cell_type": "code",
      "metadata": {
        "id": "vy9BTH4vOmj2"
      },
      "source": [
        "# CODE HERE\n",
        "valid_gen=TimeseriesGenerator(scaled_test,scaled_test,length=length,batch_size=1)"
      ],
      "execution_count": 53,
      "outputs": []
    },
    {
      "cell_type": "markdown",
      "metadata": {
        "id": "xrJ3vjspQHy3"
      },
      "source": [
        "**TASK: Create an EarlyStopping callback based on val_loss.**"
      ]
    },
    {
      "cell_type": "code",
      "metadata": {
        "id": "KQb3CMp4O8-w"
      },
      "source": [
        "early_stop=EarlyStopping(monitor='val_loss',patience=1)"
      ],
      "execution_count": 54,
      "outputs": []
    },
    {
      "cell_type": "code",
      "metadata": {
        "colab": {
          "base_uri": "https://localhost:8080/"
        },
        "id": "cHL934uyQM31",
        "outputId": "7ce46c4f-a706-4e39-f694-deac73076cfa"
      },
      "source": [
        "model1.fit(generator,epochs=10,validation_data=valid_gen,\n",
        "          callbacks=[early_stop])"
      ],
      "execution_count": 55,
      "outputs": [
        {
          "output_type": "stream",
          "text": [
            "Epoch 1/10\n",
            "546/546 [==============================] - 4s 5ms/step - loss: 0.0287 - val_loss: 9.2874e-04\n",
            "Epoch 2/10\n",
            "546/546 [==============================] - 3s 5ms/step - loss: 0.0065 - val_loss: 0.0038\n"
          ],
          "name": "stdout"
        },
        {
          "output_type": "execute_result",
          "data": {
            "text/plain": [
              "<tensorflow.python.keras.callbacks.History at 0x7fe296757710>"
            ]
          },
          "metadata": {
            "tags": []
          },
          "execution_count": 55
        }
      ]
    },
    {
      "cell_type": "code",
      "metadata": {
        "colab": {
          "base_uri": "https://localhost:8080/"
        },
        "id": "Crz-At8oQO07",
        "outputId": "73ea2653-1e4b-40a4-b0aa-d1ce3fa59f03"
      },
      "source": [
        "model1.history.history"
      ],
      "execution_count": 56,
      "outputs": [
        {
          "output_type": "execute_result",
          "data": {
            "text/plain": [
              "{'loss': [0.016852160915732384, 0.0056316545233130455],\n",
              " 'val_loss': [0.000928737223148346, 0.003844796447083354]}"
            ]
          },
          "metadata": {
            "tags": []
          },
          "execution_count": 56
        }
      ]
    },
    {
      "cell_type": "markdown",
      "metadata": {
        "id": "IDIDt2LDQW5V"
      },
      "source": [
        "**TASK: Plot the history of the loss that occured during training.**"
      ]
    },
    {
      "cell_type": "code",
      "metadata": {
        "colab": {
          "base_uri": "https://localhost:8080/",
          "height": 282
        },
        "id": "2ReJ3PleQS6o",
        "outputId": "4d41d159-fd57-428f-8231-159e79b86a71"
      },
      "source": [
        "losses=pd.DataFrame(model1.history.history)\n",
        "losses.plot()"
      ],
      "execution_count": 57,
      "outputs": [
        {
          "output_type": "execute_result",
          "data": {
            "text/plain": [
              "<matplotlib.axes._subplots.AxesSubplot at 0x7fe28d718c50>"
            ]
          },
          "metadata": {
            "tags": []
          },
          "execution_count": 57
        },
        {
          "output_type": "display_data",
          "data": {
            "image/png": "[encoded data removed]",
            "text/plain": [
              "<Figure size 432x288 with 1 Axes>"
            ]
          },
          "metadata": {
            "tags": [],
            "needs_background": "light"
          }
        }
      ]
    },
    {
      "cell_type": "markdown",
      "metadata": {
        "id": "Qz8y8GwyQi9d"
      },
      "source": [
        "## Evaluate on Test Data\n",
        "\n",
        "**TASK: Forecast predictions for your test data range (the last 12 months of the entire dataset). Remember to inverse your scaling transformations. Your final result should be a DataFrame with two columns, the true test values and the predictions.**"
      ]
    },
    {
      "cell_type": "code",
      "metadata": {
        "id": "tAM3uuExQbQZ"
      },
      "source": [
        "# CODE HERE\n",
        "test_pred=[]\n",
        "\n",
        "first_eval_batch=scaled_train[-length:]#Last 36 months of my training dataset\n",
        "curr_batch=first_eval_batch.reshape((1,length,n_features))\n",
        "\n",
        "for i in range(len(test)):\n",
        "\n",
        "  curr_pred=model1.predict(curr_batch)[0]#predicting first one and saving in curr_pred on basis of last 36 months\n",
        "\n",
        "  #predicting and adding to the list to compare with original one\n",
        "  test_pred.append(curr_pred)\n",
        "\n",
        "  #finally update current prediction value by removing top one after it's predicted and appending it with curr_pred value\n",
        "  curr_batch=np.append(curr_batch[:,1:,:],[[curr_pred]],axis=1)"
      ],
      "execution_count": 58,
      "outputs": []
    },
    {
      "cell_type": "code",
      "metadata": {
        "colab": {
          "base_uri": "https://localhost:8080/"
        },
        "id": "HxTPEG4ZQlh3",
        "outputId": "65ac7928-5c65-4d54-cbcf-fc8f2f793f45"
      },
      "source": [
        "test_pred"
      ],
      "execution_count": 59,
      "outputs": [
        {
          "output_type": "execute_result",
          "data": {
            "text/plain": [
              "[array([0.4672969], dtype=float32),\n",
              " array([0.44979477], dtype=float32),\n",
              " array([0.41563845], dtype=float32),\n",
              " array([0.37805605], dtype=float32),\n",
              " array([0.35323876], dtype=float32),\n",
              " array([0.35272473], dtype=float32),\n",
              " array([0.38155168], dtype=float32),\n",
              " array([0.4356181], dtype=float32),\n",
              " array([0.5025562], dtype=float32),\n",
              " array([0.56600237], dtype=float32),\n",
              " array([0.61235356], dtype=float32),\n",
              " array([0.63414735], dtype=float32),\n",
              " array([0.62405723], dtype=float32),\n",
              " array([0.58658683], dtype=float32),\n",
              " array([0.5342495], dtype=float32)]"
            ]
          },
          "metadata": {
            "tags": []
          },
          "execution_count": 59
        }
      ]
    },
    {
      "cell_type": "code",
      "metadata": {
        "id": "WCAlzlMBQr7V"
      },
      "source": [
        "true_pred=scaler.inverse_transform(test_pred)"
      ],
      "execution_count": 60,
      "outputs": []
    },
    {
      "cell_type": "code",
      "metadata": {
        "colab": {
          "base_uri": "https://localhost:8080/"
        },
        "id": "tM52VBuQQwPn",
        "outputId": "1aa6fce3-1e90-4ef9-f18d-25dce8e39aab"
      },
      "source": [
        "test['Prediction']=true_pred"
      ],
      "execution_count": 61,
      "outputs": [
        {
          "output_type": "stream",
          "text": [
            "/usr/local/lib/python3.7/dist-packages/ipykernel_launcher.py:1: SettingWithCopyWarning: \n",
            "A value is trying to be set on a copy of a slice from a DataFrame.\n",
            "Try using .loc[row_indexer,col_indexer] = value instead\n",
            "\n",
            "See the caveats in the documentation: https://pandas.pydata.org/pandas-docs/stable/user_guide/indexing.html#returning-a-view-versus-a-copy\n",
            "  \"\"\"Entry point for launching an IPython kernel.\n"
          ],
          "name": "stderr"
        }
      ]
    },
    {
      "cell_type": "code",
      "metadata": {
        "colab": {
          "base_uri": "https://localhost:8080/",
          "height": 521
        },
        "id": "XS--rny1Qx_G",
        "outputId": "78c55358-3b9a-430c-dde6-78031de0e8d6"
      },
      "source": [
        "test"
      ],
      "execution_count": 62,
      "outputs": [
        {
          "output_type": "execute_result",
          "data": {
            "text/html": [
              "<div>\n",
              "<style scoped>\n",
              "    .dataframe tbody tr th:only-of-type {\n",
              "        vertical-align: middle;\n",
              "    }\n",
              "\n",
              "    .dataframe tbody tr th {\n",
              "        vertical-align: top;\n",
              "    }\n",
              "\n",
              "    .dataframe thead th {\n",
              "        text-align: right;\n",
              "    }\n",
              "</style>\n",
              "<table border=\"1\" class=\"dataframe\">\n",
              "  <thead>\n",
              "    <tr style=\"text-align: right;\">\n",
              "      <th></th>\n",
              "      <th>Production</th>\n",
              "      <th>Prediction</th>\n",
              "    </tr>\n",
              "    <tr>\n",
              "      <th>DATE</th>\n",
              "      <th></th>\n",
              "      <th></th>\n",
              "    </tr>\n",
              "  </thead>\n",
              "  <tbody>\n",
              "    <tr>\n",
              "      <th>2018-07-01</th>\n",
              "      <td>117.2215</td>\n",
              "      <td>122.919619</td>\n",
              "    </tr>\n",
              "    <tr>\n",
              "      <th>2018-08-01</th>\n",
              "      <td>112.6779</td>\n",
              "      <td>120.512833</td>\n",
              "    </tr>\n",
              "    <tr>\n",
              "      <th>2018-09-01</th>\n",
              "      <td>103.3118</td>\n",
              "      <td>115.815864</td>\n",
              "    </tr>\n",
              "    <tr>\n",
              "      <th>2018-10-01</th>\n",
              "      <td>92.1321</td>\n",
              "      <td>110.647762</td>\n",
              "    </tr>\n",
              "    <tr>\n",
              "      <th>2018-11-01</th>\n",
              "      <td>82.4347</td>\n",
              "      <td>107.235040</td>\n",
              "    </tr>\n",
              "    <tr>\n",
              "      <th>2018-12-01</th>\n",
              "      <td>76.7608</td>\n",
              "      <td>107.164353</td>\n",
              "    </tr>\n",
              "    <tr>\n",
              "      <th>2019-01-01</th>\n",
              "      <td>86.9988</td>\n",
              "      <td>111.128460</td>\n",
              "    </tr>\n",
              "    <tr>\n",
              "      <th>2019-02-01</th>\n",
              "      <td>98.1116</td>\n",
              "      <td>118.563344</td>\n",
              "    </tr>\n",
              "    <tr>\n",
              "      <th>2019-03-01</th>\n",
              "      <td>116.1718</td>\n",
              "      <td>127.768264</td>\n",
              "    </tr>\n",
              "    <tr>\n",
              "      <th>2019-04-01</th>\n",
              "      <td>114.9703</td>\n",
              "      <td>136.492993</td>\n",
              "    </tr>\n",
              "    <tr>\n",
              "      <th>2019-05-01</th>\n",
              "      <td>114.5613</td>\n",
              "      <td>142.866927</td>\n",
              "    </tr>\n",
              "    <tr>\n",
              "      <th>2019-06-01</th>\n",
              "      <td>124.9605</td>\n",
              "      <td>145.863875</td>\n",
              "    </tr>\n",
              "    <tr>\n",
              "      <th>2019-07-01</th>\n",
              "      <td>110.2632</td>\n",
              "      <td>144.476344</td>\n",
              "    </tr>\n",
              "    <tr>\n",
              "      <th>2019-08-01</th>\n",
              "      <td>102.6085</td>\n",
              "      <td>139.323643</td>\n",
              "    </tr>\n",
              "    <tr>\n",
              "      <th>2019-09-01</th>\n",
              "      <td>101.5866</td>\n",
              "      <td>132.126530</td>\n",
              "    </tr>\n",
              "  </tbody>\n",
              "</table>\n",
              "</div>"
            ],
            "text/plain": [
              "            Production  Prediction\n",
              "DATE                              \n",
              "2018-07-01    117.2215  122.919619\n",
              "2018-08-01    112.6779  120.512833\n",
              "2018-09-01    103.3118  115.815864\n",
              "2018-10-01     92.1321  110.647762\n",
              "2018-11-01     82.4347  107.235040\n",
              "2018-12-01     76.7608  107.164353\n",
              "2019-01-01     86.9988  111.128460\n",
              "2019-02-01     98.1116  118.563344\n",
              "2019-03-01    116.1718  127.768264\n",
              "2019-04-01    114.9703  136.492993\n",
              "2019-05-01    114.5613  142.866927\n",
              "2019-06-01    124.9605  145.863875\n",
              "2019-07-01    110.2632  144.476344\n",
              "2019-08-01    102.6085  139.323643\n",
              "2019-09-01    101.5866  132.126530"
            ]
          },
          "metadata": {
            "tags": []
          },
          "execution_count": 62
        }
      ]
    },
    {
      "cell_type": "code",
      "metadata": {
        "colab": {
          "base_uri": "https://localhost:8080/",
          "height": 525
        },
        "id": "raw4NJWVQ0nj",
        "outputId": "83b3f217-2a78-48ec-e611-be24aef9dff2"
      },
      "source": [
        "# CODE HERE\n",
        "test.plot(figsize=(12,8))"
      ],
      "execution_count": 63,
      "outputs": [
        {
          "output_type": "execute_result",
          "data": {
            "text/plain": [
              "<matplotlib.axes._subplots.AxesSubplot at 0x7fe28bcbc1d0>"
            ]
          },
          "metadata": {
            "tags": []
          },
          "execution_count": 63
        },
        {
          "output_type": "display_data",
          "data": {
            "image/png": "[encoded data removed]",
            "text/plain": [
              "<Figure size 864x576 with 1 Axes>"
            ]
          },
          "metadata": {
            "tags": [],
            "needs_background": "light"
          }
        }
      ]
    },
    {
      "cell_type": "code",
      "metadata": {
        "colab": {
          "base_uri": "https://localhost:8080/"
        },
        "id": "y01So5FERMBt",
        "outputId": "61bb7d6d-0412-415f-df4c-dab5c41669d2"
      },
      "source": [
        "np.sqrt(mean_squared_error(test['Production'],test['Prediction']))"
      ],
      "execution_count": 64,
      "outputs": [
        {
          "output_type": "execute_result",
          "data": {
            "text/plain": [
              "23.692580373933776"
            ]
          },
          "metadata": {
            "tags": []
          },
          "execution_count": 64
        }
      ]
    },
    {
      "cell_type": "code",
      "metadata": {
        "id": "_q8_NxVqRPIN"
      },
      "source": [
        "#Almost the same so that means our model is neutral but better now. So, predicting next 12 months"
      ],
      "execution_count": 65,
      "outputs": []
    },
    {
      "cell_type": "markdown",
      "metadata": {
        "id": "eNTwhIS9TFOl"
      },
      "source": [
        "### Retrain and Forecasting"
      ]
    },
    {
      "cell_type": "code",
      "metadata": {
        "id": "QQZeKbQMR-oK"
      },
      "source": [
        "full_scaler = MinMaxScaler()\n",
        "scaled_full_data = full_scaler.fit_transform(df)"
      ],
      "execution_count": 66,
      "outputs": []
    },
    {
      "cell_type": "code",
      "metadata": {
        "id": "FhJrJ-5UTKK0"
      },
      "source": [
        "length = 12 # Length of the output sequences (in number of timesteps)\n",
        "generator = TimeseriesGenerator(scaled_full_data, scaled_full_data, length=length, batch_size=1)"
      ],
      "execution_count": 67,
      "outputs": []
    },
    {
      "cell_type": "code",
      "metadata": {
        "colab": {
          "base_uri": "https://localhost:8080/"
        },
        "id": "D-QF-OJhTMWj",
        "outputId": "f8778f0a-758e-4658-b010-74ea7ee67f73"
      },
      "source": [
        "model2 = Sequential()\n",
        "model2.add(GRU(140, activation='relu', input_shape=(length, n_features)))\n",
        "model2.add(Dense(1))\n",
        "model2.compile(optimizer='adam', loss='mse')\n",
        "\n",
        "\n",
        "# fit model\n",
        "model2.fit(generator,epochs=10)"
      ],
      "execution_count": 68,
      "outputs": [
        {
          "output_type": "stream",
          "text": [
            "Epoch 1/10\n",
            "561/561 [==============================] - 4s 5ms/step - loss: 0.0376\n",
            "Epoch 2/10\n",
            "561/561 [==============================] - 3s 5ms/step - loss: 0.0069\n",
            "Epoch 3/10\n",
            "561/561 [==============================] - 3s 5ms/step - loss: 0.0043\n",
            "Epoch 4/10\n",
            "561/561 [==============================] - 3s 5ms/step - loss: 0.0040\n",
            "Epoch 5/10\n",
            "561/561 [==============================] - 3s 5ms/step - loss: 0.0036\n",
            "Epoch 6/10\n",
            "561/561 [==============================] - 3s 5ms/step - loss: 0.0030\n",
            "Epoch 7/10\n",
            "561/561 [==============================] - 3s 5ms/step - loss: 0.0031\n",
            "Epoch 8/10\n",
            "561/561 [==============================] - 3s 5ms/step - loss: 0.0035\n",
            "Epoch 9/10\n",
            "561/561 [==============================] - 3s 5ms/step - loss: 0.0028\n",
            "Epoch 10/10\n",
            "561/561 [==============================] - 3s 5ms/step - loss: 0.0028\n"
          ],
          "name": "stdout"
        },
        {
          "output_type": "execute_result",
          "data": {
            "text/plain": [
              "<tensorflow.python.keras.callbacks.History at 0x7fe28dfd6dd0>"
            ]
          },
          "metadata": {
            "tags": []
          },
          "execution_count": 68
        }
      ]
    },
    {
      "cell_type": "code",
      "metadata": {
        "id": "CwNAWsu3TPhR"
      },
      "source": [
        "forecast = []\n",
        "# Replace periods with whatever forecast length you want\n",
        "periods = 12\n",
        "\n",
        "first_eval_batch = scaled_full_data[-length:]\n",
        "current_batch = first_eval_batch.reshape((1, length, n_features))\n",
        "\n",
        "for i in range(periods):\n",
        "    \n",
        "    # get prediction 1 time stamp ahead ([0] is for grabbing just the number instead of [array])\n",
        "    current_pred = model2.predict(current_batch)[0]\n",
        "    \n",
        "    # store prediction\n",
        "    forecast.append(current_pred) \n",
        "    \n",
        "    # update batch to now include prediction and drop first value\n",
        "    current_batch = np.append(current_batch[:,1:,:],[[current_pred]],axis=1)"
      ],
      "execution_count": 69,
      "outputs": []
    },
    {
      "cell_type": "code",
      "metadata": {
        "id": "WS-9AZ_8UA01"
      },
      "source": [
        "forecast = scaler.inverse_transform(forecast)"
      ],
      "execution_count": 70,
      "outputs": []
    },
    {
      "cell_type": "markdown",
      "metadata": {
        "id": "QGligLtxUMnb"
      },
      "source": [
        "### Creating new timestamp index with pandas."
      ]
    },
    {
      "cell_type": "code",
      "metadata": {
        "colab": {
          "base_uri": "https://localhost:8080/",
          "height": 431
        },
        "id": "ZQcQ3jTUUGrE",
        "outputId": "7909b01c-703d-4cda-d221-1b7afea1cfbd"
      },
      "source": [
        "df"
      ],
      "execution_count": 71,
      "outputs": [
        {
          "output_type": "execute_result",
          "data": {
            "text/html": [
              "<div>\n",
              "<style scoped>\n",
              "    .dataframe tbody tr th:only-of-type {\n",
              "        vertical-align: middle;\n",
              "    }\n",
              "\n",
              "    .dataframe tbody tr th {\n",
              "        vertical-align: top;\n",
              "    }\n",
              "\n",
              "    .dataframe thead th {\n",
              "        text-align: right;\n",
              "    }\n",
              "</style>\n",
              "<table border=\"1\" class=\"dataframe\">\n",
              "  <thead>\n",
              "    <tr style=\"text-align: right;\">\n",
              "      <th></th>\n",
              "      <th>Production</th>\n",
              "    </tr>\n",
              "    <tr>\n",
              "      <th>DATE</th>\n",
              "      <th></th>\n",
              "    </tr>\n",
              "  </thead>\n",
              "  <tbody>\n",
              "    <tr>\n",
              "      <th>1972-01-01</th>\n",
              "      <td>59.9622</td>\n",
              "    </tr>\n",
              "    <tr>\n",
              "      <th>1972-02-01</th>\n",
              "      <td>67.0605</td>\n",
              "    </tr>\n",
              "    <tr>\n",
              "      <th>1972-03-01</th>\n",
              "      <td>74.2350</td>\n",
              "    </tr>\n",
              "    <tr>\n",
              "      <th>1972-04-01</th>\n",
              "      <td>78.1120</td>\n",
              "    </tr>\n",
              "    <tr>\n",
              "      <th>1972-05-01</th>\n",
              "      <td>84.7636</td>\n",
              "    </tr>\n",
              "    <tr>\n",
              "      <th>...</th>\n",
              "      <td>...</td>\n",
              "    </tr>\n",
              "    <tr>\n",
              "      <th>2019-05-01</th>\n",
              "      <td>114.5613</td>\n",
              "    </tr>\n",
              "    <tr>\n",
              "      <th>2019-06-01</th>\n",
              "      <td>124.9605</td>\n",
              "    </tr>\n",
              "    <tr>\n",
              "      <th>2019-07-01</th>\n",
              "      <td>110.2632</td>\n",
              "    </tr>\n",
              "    <tr>\n",
              "      <th>2019-08-01</th>\n",
              "      <td>102.6085</td>\n",
              "    </tr>\n",
              "    <tr>\n",
              "      <th>2019-09-01</th>\n",
              "      <td>101.5866</td>\n",
              "    </tr>\n",
              "  </tbody>\n",
              "</table>\n",
              "<p>573 rows × 1 columns</p>\n",
              "</div>"
            ],
            "text/plain": [
              "            Production\n",
              "DATE                  \n",
              "1972-01-01     59.9622\n",
              "1972-02-01     67.0605\n",
              "1972-03-01     74.2350\n",
              "1972-04-01     78.1120\n",
              "1972-05-01     84.7636\n",
              "...                ...\n",
              "2019-05-01    114.5613\n",
              "2019-06-01    124.9605\n",
              "2019-07-01    110.2632\n",
              "2019-08-01    102.6085\n",
              "2019-09-01    101.5866\n",
              "\n",
              "[573 rows x 1 columns]"
            ]
          },
          "metadata": {
            "tags": []
          },
          "execution_count": 71
        }
      ]
    },
    {
      "cell_type": "code",
      "metadata": {
        "id": "fNUGgHjUUJ8z"
      },
      "source": [
        "forecast_index = pd.date_range(start='2019-10-01',periods=periods,freq='MS')"
      ],
      "execution_count": 72,
      "outputs": []
    },
    {
      "cell_type": "code",
      "metadata": {
        "id": "iGsUTH1zUTWw"
      },
      "source": [
        "forecast_df = pd.DataFrame(data=forecast,index=forecast_index,\n",
        "                           columns=['Forecast'])"
      ],
      "execution_count": 73,
      "outputs": []
    },
    {
      "cell_type": "code",
      "metadata": {
        "colab": {
          "base_uri": "https://localhost:8080/",
          "height": 402
        },
        "id": "6x0S54_fUVHQ",
        "outputId": "3541e4b1-fd5d-4064-8f80-aea1155cfa23"
      },
      "source": [
        "forecast_df"
      ],
      "execution_count": 74,
      "outputs": [
        {
          "output_type": "execute_result",
          "data": {
            "text/html": [
              "<div>\n",
              "<style scoped>\n",
              "    .dataframe tbody tr th:only-of-type {\n",
              "        vertical-align: middle;\n",
              "    }\n",
              "\n",
              "    .dataframe tbody tr th {\n",
              "        vertical-align: top;\n",
              "    }\n",
              "\n",
              "    .dataframe thead th {\n",
              "        text-align: right;\n",
              "    }\n",
              "</style>\n",
              "<table border=\"1\" class=\"dataframe\">\n",
              "  <thead>\n",
              "    <tr style=\"text-align: right;\">\n",
              "      <th></th>\n",
              "      <th>Forecast</th>\n",
              "    </tr>\n",
              "  </thead>\n",
              "  <tbody>\n",
              "    <tr>\n",
              "      <th>2019-10-01</th>\n",
              "      <td>91.323931</td>\n",
              "    </tr>\n",
              "    <tr>\n",
              "      <th>2019-11-01</th>\n",
              "      <td>85.845957</td>\n",
              "    </tr>\n",
              "    <tr>\n",
              "      <th>2019-12-01</th>\n",
              "      <td>85.360673</td>\n",
              "    </tr>\n",
              "    <tr>\n",
              "      <th>2020-01-01</th>\n",
              "      <td>92.051433</td>\n",
              "    </tr>\n",
              "    <tr>\n",
              "      <th>2020-02-01</th>\n",
              "      <td>103.516061</td>\n",
              "    </tr>\n",
              "    <tr>\n",
              "      <th>2020-03-01</th>\n",
              "      <td>114.401264</td>\n",
              "    </tr>\n",
              "    <tr>\n",
              "      <th>2020-04-01</th>\n",
              "      <td>123.439382</td>\n",
              "    </tr>\n",
              "    <tr>\n",
              "      <th>2020-05-01</th>\n",
              "      <td>129.386820</td>\n",
              "    </tr>\n",
              "    <tr>\n",
              "      <th>2020-06-01</th>\n",
              "      <td>132.827123</td>\n",
              "    </tr>\n",
              "    <tr>\n",
              "      <th>2020-07-01</th>\n",
              "      <td>128.673711</td>\n",
              "    </tr>\n",
              "    <tr>\n",
              "      <th>2020-08-01</th>\n",
              "      <td>119.483123</td>\n",
              "    </tr>\n",
              "    <tr>\n",
              "      <th>2020-09-01</th>\n",
              "      <td>107.444923</td>\n",
              "    </tr>\n",
              "  </tbody>\n",
              "</table>\n",
              "</div>"
            ],
            "text/plain": [
              "              Forecast\n",
              "2019-10-01   91.323931\n",
              "2019-11-01   85.845957\n",
              "2019-12-01   85.360673\n",
              "2020-01-01   92.051433\n",
              "2020-02-01  103.516061\n",
              "2020-03-01  114.401264\n",
              "2020-04-01  123.439382\n",
              "2020-05-01  129.386820\n",
              "2020-06-01  132.827123\n",
              "2020-07-01  128.673711\n",
              "2020-08-01  119.483123\n",
              "2020-09-01  107.444923"
            ]
          },
          "metadata": {
            "tags": []
          },
          "execution_count": 74
        }
      ]
    },
    {
      "cell_type": "code",
      "metadata": {
        "colab": {
          "base_uri": "https://localhost:8080/",
          "height": 556
        },
        "id": "z_1_eqd2UWtk",
        "outputId": "ce1d0642-6dd3-40c5-a613-c47fce0c730d"
      },
      "source": [
        "df.plot()\n",
        "forecast_df.plot()"
      ],
      "execution_count": 75,
      "outputs": [
        {
          "output_type": "execute_result",
          "data": {
            "text/plain": [
              "<matplotlib.axes._subplots.AxesSubplot at 0x7fe28a943910>"
            ]
          },
          "metadata": {
            "tags": []
          },
          "execution_count": 75
        },
        {
          "output_type": "display_data",
          "data": {
            "image/png": "[encoded data removed]",
            "text/plain": [
              "<Figure size 432x288 with 1 Axes>"
            ]
          },
          "metadata": {
            "tags": [],
            "needs_background": "light"
          }
        },
        {
          "output_type": "display_data",
          "data": {
            "image/png": "[encoded data removed]",
            "text/plain": [
              "<Figure size 432x288 with 1 Axes>"
            ]
          },
          "metadata": {
            "tags": [],
            "needs_background": "light"
          }
        }
      ]
    },
    {
      "cell_type": "markdown",
      "metadata": {
        "id": "ey8l_mHxUfMV"
      },
      "source": [
        "### Joining pandas plot"
      ]
    },
    {
      "cell_type": "code",
      "metadata": {
        "colab": {
          "base_uri": "https://localhost:8080/",
          "height": 296
        },
        "id": "4PkQGHK6Uagm",
        "outputId": "cc482487-d2a0-48a5-ab20-0dc681c6b0b3"
      },
      "source": [
        "ax = df.plot()\n",
        "forecast_df.plot(ax=ax)"
      ],
      "execution_count": 76,
      "outputs": [
        {
          "output_type": "execute_result",
          "data": {
            "text/plain": [
              "<matplotlib.axes._subplots.AxesSubplot at 0x7fe28a8bd7d0>"
            ]
          },
          "metadata": {
            "tags": []
          },
          "execution_count": 76
        },
        {
          "output_type": "display_data",
          "data": {
            "image/png": "[encoded data removed]",
            "text/plain": [
              "<Figure size 432x288 with 1 Axes>"
            ]
          },
          "metadata": {
            "tags": [],
            "needs_background": "light"
          }
        }
      ]
    },
    {
      "cell_type": "code",
      "metadata": {
        "colab": {
          "base_uri": "https://localhost:8080/",
          "height": 308
        },
        "id": "NTpPuXFxUiX6",
        "outputId": "5e8449fb-96a3-42bf-e5d3-03d823bb86a1"
      },
      "source": [
        "ax = df.plot()\n",
        "forecast_df.plot(ax=ax)\n",
        "plt.xlim('2018-01-01','2020-12-01')"
      ],
      "execution_count": 77,
      "outputs": [
        {
          "output_type": "execute_result",
          "data": {
            "text/plain": [
              "(576.0, 611.0)"
            ]
          },
          "metadata": {
            "tags": []
          },
          "execution_count": 77
        },
        {
          "output_type": "display_data",
          "data": {
            "image/png": "[encoded data removed]",
            "text/plain": [
              "<Figure size 432x288 with 1 Axes>"
            ]
          },
          "metadata": {
            "tags": [],
            "needs_background": "light"
          }
        }
      ]
    }
  ]
}